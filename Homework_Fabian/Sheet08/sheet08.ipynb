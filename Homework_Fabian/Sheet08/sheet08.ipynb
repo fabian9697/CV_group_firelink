{
 "cells": [
  {
   "cell_type": "markdown",
   "metadata": {
    "deletable": false,
    "editable": false,
    "nbgrader": {
     "cell_type": "markdown",
     "checksum": "94c949e1247e5585a5306a758b0dfbaa",
     "grade": false,
     "grade_id": "cell-60aa580d9d920dba",
     "locked": true,
     "schema_version": 3,
     "solution": false
    }
   },
   "source": [
    "Osnabrück University - Computer Vision (Winter Term 2020/21) - Prof. Dr.-Ing. G. Heidemann, Ulf Krumnack, Ludwig Schallner, Artem Petrov"
   ]
  },
  {
   "cell_type": "markdown",
   "metadata": {
    "deletable": false,
    "editable": false,
    "nbgrader": {
     "cell_type": "markdown",
     "checksum": "157ac38f4c7903e7a7ce8f3baf8aec2f",
     "grade": false,
     "grade_id": "cell-d9e6599459b0ba4d",
     "locked": true,
     "schema_version": 3,
     "solution": false
    }
   },
   "source": [
    "# Exercise Sheet 8: Compression"
   ]
  },
  {
   "cell_type": "markdown",
   "metadata": {
    "deletable": false,
    "editable": false,
    "nbgrader": {
     "cell_type": "markdown",
     "checksum": "727632a65295f42dc26bb64eca4071e5",
     "grade": false,
     "grade_id": "cell-917ded279d27040b",
     "locked": true,
     "schema_version": 3,
     "solution": false
    }
   },
   "source": [
    "## Introduction\n",
    "\n",
    "This week's sheet should be solved and handed in before the end of **Saturday, January 09, 2021**. If you need help (and Google and other resources were not enough), feel free to contact your groups' designated tutor or whomever of us you run into first. Please upload your results to your group's Stud.IP folder."
   ]
  },
  {
   "cell_type": "markdown",
   "metadata": {
    "deletable": false,
    "editable": false,
    "nbgrader": {
     "cell_type": "markdown",
     "checksum": "0820eb3199d1e83486b4f8a98a597ce5",
     "grade": false,
     "grade_id": "cell-433af82c3ad3533b",
     "locked": true,
     "schema_version": 3,
     "solution": false
    }
   },
   "source": [
    "## Assignment 1: Redundancy and compression [4 Points]\n"
   ]
  },
  {
   "cell_type": "markdown",
   "metadata": {
    "deletable": false,
    "editable": false,
    "nbgrader": {
     "cell_type": "markdown",
     "checksum": "0c332f8b82de7fc36b569f896713fa9c",
     "grade": false,
     "grade_id": "cell-7d7b2b8f0c5697bf",
     "locked": true,
     "schema_version": 3,
     "solution": false
    }
   },
   "source": [
    "**a)** Explain in your own words the different types of redundancy mentioned on (CV-10 slide 3). How can you check for each of these types of redundancy?"
   ]
  },
  {
   "cell_type": "markdown",
   "metadata": {
    "collapsed": true,
    "deletable": false,
    "nbgrader": {
     "cell_type": "markdown",
     "checksum": "b2138c7277ac16dd72dd117d1aaa6e26",
     "grade": true,
     "grade_id": "cell-daa37d273c908041",
     "locked": false,
     "points": 2,
     "schema_version": 3,
     "solution": true
    },
    "solution": true
   },
   "source": [
    "Coding redundancy occurs when an encoding is able to represent more information than it has to represent. Thus, the used encoding covers more codes than necessary, so it is \"overpowered\" for that particular usecase.\n",
    "\n",
    "Interpixel redundancy occurs when neighboring pixels have the same gray/ color value. So there is potential for compression by combining these larger pixel areas of the same gray/ color value and encoding them as a single entity. \n",
    "\n",
    "Psychovisual redundancy describes the effect that an image contains more information than the human eye ia able to recognize. Hence, some information can be removed due to compression reasons without disturbance of the human's eye perception.  "
   ]
  },
  {
   "cell_type": "markdown",
   "metadata": {
    "deletable": false,
    "editable": false,
    "nbgrader": {
     "cell_type": "markdown",
     "checksum": "654d62de956e3600482d89dba56efa3d",
     "grade": false,
     "grade_id": "cell-c09be7e5cf4f162a",
     "locked": true,
     "schema_version": 3,
     "solution": false
    }
   },
   "source": [
    "**b)** Explain the differences between lossless and lossy compression. Name examples for both of them. Sketch application scenarios."
   ]
  },
  {
   "cell_type": "markdown",
   "metadata": {
    "collapsed": true,
    "deletable": false,
    "nbgrader": {
     "cell_type": "markdown",
     "checksum": "d746e79f554c31b0c1f6f39607735ab8",
     "grade": true,
     "grade_id": "cell-12e5d17cb8da0bbb",
     "locked": false,
     "points": 2,
     "schema_version": 3,
     "solution": true
    },
    "solution": true
   },
   "source": [
    "A lossless compression compresses data in a way that keeps all information given in the original image. -> e.g. Huffman Decoding, Run Length Encoding, Gray code\n",
    "\n",
    "A lossy compression compresses an image by removing some of the information given in the original image. "
   ]
  },
  {
   "cell_type": "markdown",
   "metadata": {
    "deletable": false,
    "editable": false,
    "nbgrader": {
     "cell_type": "markdown",
     "checksum": "ce7effa3c3630ce6b809b531bf4d1e82",
     "grade": false,
     "grade_id": "cell-b41e6675c5265cc7",
     "locked": true,
     "schema_version": 3,
     "solution": false
    }
   },
   "source": [
    "## Assignment 2: Entropy based compression [8 Points]\n"
   ]
  },
  {
   "cell_type": "markdown",
   "metadata": {
    "deletable": false,
    "editable": false,
    "nbgrader": {
     "cell_type": "markdown",
     "checksum": "812f16d9f436d98a208fa99e8b6e0517",
     "grade": false,
     "grade_id": "cell-b873e13e731cb2d7",
     "locked": true,
     "schema_version": 3,
     "solution": false
    }
   },
   "source": [
    "**a)** Explain the idea of Huffman coding. What is the maximal compression factor that can be achieved for a given image? Load an image and compute that value (you may use `dolly.png` as an example. Make sure to load as 8-bit gray scale image)."
   ]
  },
  {
   "cell_type": "markdown",
   "metadata": {
    "collapsed": true,
    "deletable": false,
    "nbgrader": {
     "cell_type": "markdown",
     "checksum": "6a0851466cec44d43c5a9c84a7869a95",
     "grade": true,
     "grade_id": "cell-e01b9937463ce6ef",
     "locked": false,
     "points": 1,
     "schema_version": 3,
     "solution": true
    },
    "solution": true
   },
   "source": [
    "The idea of Huffman coding is to encode the different gray values of an image according to their frequency. Thus, the gray values with the most frequent occurence are encoded with the smallest codes. \n",
    "\n",
    "Maximum compression factor: n_bits / entropy"
   ]
  },
  {
   "cell_type": "code",
   "execution_count": 6,
   "metadata": {
    "deletable": false,
    "nbgrader": {
     "cell_type": "code",
     "checksum": "9e6c0bdb2601445ad2ba8e46e21246cf",
     "grade": true,
     "grade_id": "cell-81cfc72a8e7f4516",
     "locked": false,
     "points": 1,
     "schema_version": 3,
     "solution": true
    }
   },
   "outputs": [
    {
     "name": "stdout",
     "output_type": "stream",
     "text": [
      "Entropy: 7.426579595591895\n",
      "Maximum compression factor: 1.0772119112206733\n"
     ]
    }
   ],
   "source": [
    "import numpy as np\n",
    "import math\n",
    "import imageio\n",
    "import matplotlib.pyplot as plt\n",
    "\n",
    "img = imageio.imread('images/dolly.png', pilmode='L')\n",
    "\n",
    "# YOUR CODE HERE\n",
    "def entropy(img):\n",
    "    \"\"\"\n",
    "    Compute the entropy for a given image.\n",
    "    Args:\n",
    "        img (ndarray): The grayscale image to compute the entropy for.\n",
    "    \n",
    "    Returns:\n",
    "        img_entropy (float): The entropy of the image. \n",
    "    \"\"\"\n",
    "    # YOUR CODE HERE\n",
    "    n_gray_values = 256\n",
    "    frequency_each_gray_value = np.zeros(n_gray_values)  #saves the frequency of each gray value in the image (index = corresponding gray value)\n",
    "    for img_row in range(img.shape[0]):\n",
    "        for img_col in range(img.shape[1]):\n",
    "            #Increments the count in the frequency array at the index which fits the current gray value of the image.\n",
    "            frequency_each_gray_value[img[img_row][img_col]] += 1    \n",
    "            \n",
    "    #Computes the probability of each gray value -> \"Normalization\"\n",
    "    probability_each_gray_value = frequency_each_gray_value / (img.shape[0] * img.shape[1])\n",
    "    \n",
    "    entropy = 0\n",
    "    base = 2   #base of log\n",
    "    for gray_value in probability_each_gray_value:   #range for. Only applicable if the array, over which iteration is performed, is not edited. Because range-for works on a copy of the original array, so changes to the array are not saved. \n",
    "        #log is only defined for values larger than 0\n",
    "        entropy += gray_value * math.log(gray_value if gray_value > 0 else 1, base)\n",
    "    \n",
    "    return (entropy * (-1))\n",
    "\n",
    "n_bits = 8\n",
    "maximum_compression_factor = n_bits / entropy(img)\n",
    "\n",
    "print(\"Entropy: \" + str(entropy(img)))\n",
    "print(\"Maximum compression factor: \" + str(maximum_compression_factor))"
   ]
  },
  {
   "cell_type": "markdown",
   "metadata": {
    "deletable": false,
    "editable": false,
    "nbgrader": {
     "cell_type": "markdown",
     "checksum": "3d05e8b2e0db92ff9033b6b45453a664",
     "grade": false,
     "grade_id": "cell-f199e258bf6cebb2",
     "locked": true,
     "schema_version": 3,
     "solution": false
    }
   },
   "source": [
    "**b)** Now compute the relative frequencies (normalized histogram) of the image and generate an (approximately) balanced tree, as described in (CV-10 slide 6). *Hint:* you may use Python tuples as building blocks of a tree. Every non-leaf node is a pair `(left, right)` where `left` and `right` are the left and right subtrees, respectively (of course you are free to choose another approach if you prefer to do so)."
   ]
  },
  {
   "cell_type": "code",
   "execution_count": 28,
   "metadata": {
    "deletable": false,
    "nbgrader": {
     "cell_type": "code",
     "checksum": "6e04798af5971512ccd26572483a0145",
     "grade": true,
     "grade_id": "cell-516481ae59437cd2d",
     "locked": false,
     "points": 2,
     "schema_version": 3,
     "solution": true
    }
   },
   "outputs": [
    {
     "name": "stdout",
     "output_type": "stream",
     "text": [
      "0.0\n",
      "(0.0, 0.0)\n",
      "(0.0, 8.333333e-06)\n",
      "(8.333333425980527e-06, 1.6666667e-05)\n",
      "(2.500000027794158e-05, 2.7083333e-05)\n",
      "(5.208333368500462e-05, 2.9166667e-05)\n",
      "(8.125000113068381e-05, 2.9166667e-05)\n",
      "(0.00011041666857636301, 3.5416666e-05)\n",
      "(0.00014583333449991187, 3.5416666e-05)\n",
      "(0.00018125000042346073, 4.375e-05)\n",
      "(0.00022499999886349542, 4.5833334e-05)\n",
      "(0.00027083333316113567, 4.5833334e-05)\n",
      "(0.0003166666674587759, 4.5833334e-05)\n",
      "(0.00036250000175641617, 6.875e-05)\n",
      "(0.00043125000138388714, 0.00013541666)\n",
      "(0.0005666666611432447, 0.00014166666)\n",
      "(0.0007083333248374402, 0.00015416667)\n",
      "(0.0008624999964013114, 0.00017916667)\n",
      "(0.0010416666691526189, 0.00018958333)\n",
      "(0.0012312499957261025, 0.0002125)\n",
      "(0.0014437499985433533, 0.00027916668)\n",
      "(0.001722916676044406, 0.00039791668)\n",
      "(0.002120833355547802, 0.000425)\n",
      "(0.0025458333611823036, 0.00052291667)\n",
      "(0.003068750032070966, 0.00054166664)\n",
      "(0.0036104166711083963, 0.00071041664)\n",
      "(0.004320833314523043, 0.0007166667)\n",
      "(0.005037500005528273, 0.00073125)\n",
      "(0.005768749985691102, 0.00073333335)\n",
      "(0.006502083334453346, 0.00073958334)\n",
      "(0.007241666672598512, 0.00073958334)\n",
      "(0.007981250010743679, 0.0007520833)\n",
      "(0.008733333327654691, 0.0007583333)\n",
      "(0.009491666633948626, 0.0007583333)\n",
      "(0.01024999994024256, 0.0007604167)\n",
      "(0.01101041661513591, 0.00076458335)\n",
      "(0.011774999969020428, 0.000775)\n",
      "(0.012549999991279037, 0.00079375)\n",
      "(0.013343749981686415, 0.00080208335)\n",
      "(0.01414583333007613, 0.00080625)\n",
      "(0.014952083357457013, 0.00081875)\n",
      "(0.015770833363603742, 0.0008270833)\n",
      "(0.016597916669525148, 0.00083333335)\n",
      "(0.017431250023037137, 0.00085625)\n",
      "(0.018287500023689063, 0.00086458336)\n",
      "(0.019152083382323326, 0.00086666667)\n",
      "(0.020018750051349343, 0.00087291666)\n",
      "(0.020891666709758283, 0.0008833333)\n",
      "(0.021775000036541314, 0.00091666664)\n",
      "(0.022691666678838374, 0.00093333336)\n",
      "(0.023625000037100108, 0.00093958335)\n",
      "(0.024564583384744765, 0.00094375)\n",
      "(0.02550833341138059, 0.00094791665)\n",
      "(0.026456250058799924, 0.0009625)\n",
      "(0.027418750053584517, 0.00097083335)\n",
      "(0.02838958340635145, 0.000975)\n",
      "(0.029364583379901887, 0.00098125)\n",
      "(0.03034583334283525, 0.0009833333)\n",
      "(0.031329166674368025, 0.0009854167)\n",
      "(0.032314583374500216, 0.0009875)\n",
      "(0.0333020833268165, 0.0009916667)\n",
      "(0.034293750016331614, 0.00101875)\n",
      "(0.035312500031977834, 0.0010229166)\n",
      "(0.03633541666840756, 0.0010270834)\n",
      "(0.03736250004203612, 0.00105)\n",
      "(0.03841250000459695, 0.0010645833)\n",
      "(0.03947708331452304, 0.001075)\n",
      "(0.04055208335103089, 0.0010979166)\n",
      "(0.04164999997647101, 0.001125)\n",
      "(0.042774999928042234, 0.00113125)\n",
      "(0.043906249985411705, 0.0011541666)\n",
      "(0.04506041663171345, 0.00115625)\n",
      "(0.04621666664661461, 0.00116875)\n",
      "(0.04738541664028162, 0.00118125)\n",
      "(0.04856666661271447, 0.0012)\n",
      "(0.04976666666971141, 0.0012083333)\n",
      "(0.05097499996827537, 0.0012708333)\n",
      "(0.052245833277083875, 0.0012916666)\n",
      "(0.05353749992264056, 0.00130625)\n",
      "(0.05484374991556251, 0.00130625)\n",
      "(0.05614999990848446, 0.00130625)\n",
      "(0.05745624990140641, 0.0013083334)\n",
      "(0.05876458326292777, 0.00133125)\n",
      "(0.06009583321338141, 0.0013375)\n",
      "(0.061433333269633295, 0.00135)\n",
      "(0.06278333330465102, 0.0013604166)\n",
      "(0.06414374994983518, 0.0013625)\n",
      "(0.06550624996361876, 0.0013666666)\n",
      "(0.06687291659818584, 0.0013791666)\n",
      "(0.06825208321151877, 0.0013895833)\n",
      "(0.06964166655143345, 0.0013895833)\n",
      "(0.07103124989134812, 0.00139375)\n",
      "(0.07242499985204631, 0.00140625)\n",
      "(0.07383124990792567, 0.0014229167)\n",
      "(0.07525416656335437, 0.001425)\n",
      "(0.0766791665873825, 0.0014291666)\n",
      "(0.07810833323219413, 0.0014333334)\n",
      "(0.07954166661420459, 0.0014333334)\n",
      "(0.08097499999621505, 0.0014395834)\n",
      "(0.08241458336760843, 0.00145625)\n",
      "(0.08387083333855117, 0.00145625)\n",
      "(0.0853270833094939, 0.0014729167)\n",
      "(0.08679999999640131, 0.0014770833)\n",
      "(0.08827708330409223, 0.0014875)\n",
      "(0.0897645833383649, 0.0014958333)\n",
      "(0.09126041661420459, 0.0015083334)\n",
      "(0.09276874998522544, 0.0015208333)\n",
      "(0.09428958333501214, 0.0015354167)\n",
      "(0.0958250000321641, 0.0015458333)\n",
      "(0.09737083333948249, 0.0015479167)\n",
      "(0.09891875001540029, 0.0015625)\n",
      "(0.10048125003868336, 0.0015666666)\n",
      "(0.10204791668274993, 0.00158125)\n",
      "(0.10362916667418176, 0.0015895833)\n",
      "(0.10521875002359593, 0.0015979167)\n",
      "(0.10681666673099244, 0.0016125)\n",
      "(0.1084291667857542, 0.0016270833)\n",
      "(0.11005625007146591, 0.0016270833)\n",
      "(0.11168333335717762, 0.00163125)\n",
      "(0.11331458338008815, 0.0016458334)\n",
      "(0.11496041675036395, 0.0016458334)\n",
      "(0.11660625012063974, 0.0016583333)\n",
      "(0.11826458346968138, 0.0017041666)\n",
      "(0.1199687501130029, 0.0017333333)\n",
      "(0.12170208345105493, 0.0017375)\n",
      "(0.12343958340989047, 0.00175)\n",
      "(0.12518958346390718, 0.0017833334)\n",
      "(0.12697291683343792, 0.0017958333)\n",
      "(0.1287687501817345, 0.0018229167)\n",
      "(0.1305916668561622, 0.001875)\n",
      "(0.13246666681425268, 0.0019375)\n",
      "(0.1344041667825877, 0.0019708334)\n",
      "(0.1363750001828521, 0.0020770833)\n",
      "(0.13845208351904148, 0.0020770833)\n",
      "(0.14052916685523087, 0.00229375)\n",
      "(0.1428229168004691, 0.0023229166)\n",
      "(0.14514583344043785, 0.0023458332)\n",
      "(0.14749166666933888, 0.0024270834)\n",
      "(0.14991875010946387, 0.00253125)\n",
      "(0.15245000011691445, 0.0026625)\n",
      "(0.15511250001782173, 0.0027020834)\n",
      "(0.1578145834564566, 0.00273125)\n",
      "(0.16054583335699135, 0.0030270834)\n",
      "(0.1635729167091995, 0.0034916666)\n",
      "(0.16706458334283525, 0.0038458332)\n",
      "(0.1709104165847748, 0.00403125)\n",
      "(0.17494166637243325, 0.00414375)\n",
      "(0.17908541620181495, 0.004333333)\n",
      "(0.1834187493141144, 0.004741667)\n",
      "(0.18816041615264112, 0.0053291665)\n",
      "(0.1934895826916545, 0.005347917)\n",
      "(0.19883749954806262, 0.0053770836)\n",
      "(0.20421458309920126, 0.0053770836)\n",
      "(0.2095916666503399, 0.0054)\n",
      "(0.21499166679041082, 0.005404167)\n",
      "(0.22039583366768056, 0.00544375)\n",
      "(0.22583958361701661, 0.005454167)\n",
      "(0.23129375040934974, 0.0054708333)\n",
      "(0.2367645836848169, 0.00548125)\n",
      "(0.24224583380328113, 0.0055645835)\n",
      "(0.2478104172687381, 0.00556875)\n",
      "(0.2533791674713939, 0.0056208335)\n",
      "(0.2590000009577125, 0.0056208335)\n",
      "(0.26462083444403106, 0.0056375)\n",
      "(0.2702583344134837, 0.0056625)\n",
      "(0.275920834340468, 0.0057)\n",
      "(0.2816208344365805, 0.0057625)\n",
      "(0.28738333465935284, 0.0057666665)\n",
      "(0.29315000115366274, 0.0058541666)\n",
      "(0.2990041677321642, 0.0058875)\n",
      "(0.304891667742595, 0.0059104166)\n",
      "(0.3108020843419581, 0.005947917)\n",
      "(0.3167500011104494, 0.0059604165)\n",
      "(0.32271041762487584, 0.0060625)\n",
      "(0.3287729178036898, 0.006070833)\n",
      "(0.3348437509912401, 0.006085417)\n",
      "(0.3409291677589863, 0.0061395834)\n",
      "(0.3470687511789947, 0.0061791665)\n",
      "(0.35324791767106944, 0.0061895833)\n",
      "(0.35943750100614125, 0.00620625)\n",
      "(0.3656437508243471, 0.0062166667)\n",
      "(0.37186041748555, 0.006254167)\n",
      "(0.3781145843158811, 0.00643125)\n",
      "(0.3845458342175334, 0.00645)\n",
      "(0.3909958344365805, 0.0064791664)\n",
      "(0.3974750008846968, 0.0065)\n",
      "(0.40397500101880723, 0.0065145832)\n",
      "(0.4104895842674523, 0.00656875)\n",
      "(0.4170583341683596, 0.0066895834)\n",
      "(0.42374791758538777, 0.006722917)\n",
      "(0.4304708344343453, 0.0067729168)\n",
      "(0.4372437511983662, 0.0067979167)\n",
      "(0.44404166791991884, 0.00684375)\n",
      "(0.450885417819336, 0.0068479166)\n",
      "(0.457733334455952, 0.0068666665)\n",
      "(0.46460000094430143, 0.0068895835)\n",
      "(0.47148958448724443, 0.0069104168)\n",
      "(0.4784000012505203, 0.00691875)\n",
      "(0.4853187510225325, 0.0069541666)\n",
      "(0.4922729175950735, 0.0069708335)\n",
      "(0.49924375111640984, 0.0069791665)\n",
      "(0.5062229176464825, 0.007)\n",
      "(0.5132229178625494, 0.0070375)\n",
      "(0.5202604177820831, 0.0070770835)\n",
      "(0.5273375012393444, 0.00715625)\n",
      "(0.5344937513063996, 0.0071729166)\n",
      "(0.5416666678565889, 0.00718125)\n",
      "(0.5488479178811758, 0.0071875)\n",
      "(0.556035418011561, 0.0072208336)\n",
      "(0.5632562515738755, 0.007241667)\n",
      "(0.5704979183565229, 0.0072958334)\n",
      "(0.5777937517914324, 0.0073020835)\n",
      "(0.5850958353321403, 0.00730625)\n",
      "(0.5924020851443856, 0.007308333)\n",
      "(0.5997104183252304, 0.0073354165)\n",
      "(0.6070458348322063, 0.0073604165)\n",
      "(0.6144062512967139, 0.0073666666)\n",
      "(0.6217729178670197, 0.00739375)\n",
      "(0.6291666677634566, 0.0074125)\n",
      "(0.6365791679772883, 0.0074166665)\n",
      "(0.6439958344626575, 0.0074270833)\n",
      "(0.6514229177910238, 0.00743125)\n",
      "(0.6588541678565889, 0.0075416667)\n",
      "(0.6663958345952778, 0.0077395835)\n",
      "(0.6741354180912822, 0.0077520832)\n",
      "(0.6818875013332217, 0.007922917)\n",
      "(0.6898104180063456, 0.007958333)\n",
      "(0.6977687510143369, 0.0080958335)\n",
      "(0.7058645844872444, 0.00851875)\n",
      "(0.7143833343352526, 0.008529167)\n",
      "(0.7229125010262578, 0.008722916)\n",
      "(0.7316354172717183, 0.008804167)\n",
      "(0.7404395839612334, 0.008964583)\n",
      "(0.7494041672389358, 0.009260417)\n",
      "(0.7586645842011421, 0.009508333)\n",
      "(0.768172917370066, 0.00955625)\n",
      "(0.7777291670854538, 0.009695834)\n",
      "(0.7874250006343573, 0.010025)\n",
      "(0.7974500008340328, 0.010027084)\n",
      "(0.8074770844023078, 0.0101375)\n",
      "(0.8176145846437066, 0.010141667)\n",
      "(0.8277562516223043, 0.010141667)\n",
      "(0.8378979186009019, 0.01018125)\n",
      "(0.8480791686515659, 0.010239583)\n",
      "(0.8583187520916908, 0.010308334)\n",
      "(0.8686270857642739, 0.01040625)\n",
      "(0.8790333358983844, 0.01059375)\n",
      "(0.8896270854811519, 0.010960417)\n",
      "(0.9005875023494809, 0.011016667)\n",
      "(0.9116041692386716, 0.0111041665)\n",
      "(0.9227083357463925, 0.011633334)\n",
      "(0.9343416694964617, 0.01185)\n",
      "(0.9461916698555797, 0.011860416)\n",
      "(0.9580520861263722, 0.012075)\n",
      "(0.9701270865689366, 0.0139833335)\n",
      "(0.984110420052275, 0.015889583)\n"
     ]
    },
    {
     "ename": "NameError",
     "evalue": "name 'tree' is not defined",
     "output_type": "error",
     "traceback": [
      "\u001b[1;31m---------------------------------------------------------------------------\u001b[0m",
      "\u001b[1;31mNameError\u001b[0m                                 Traceback (most recent call last)",
      "\u001b[1;32m<ipython-input-28-83d60f243fca>\u001b[0m in \u001b[0;36m<module>\u001b[1;34m\u001b[0m\n\u001b[0;32m     40\u001b[0m \u001b[1;33m\u001b[0m\u001b[0m\n\u001b[0;32m     41\u001b[0m \u001b[1;33m\u001b[0m\u001b[0m\n\u001b[1;32m---> 42\u001b[1;33m \u001b[0mprint\u001b[0m\u001b[1;33m(\u001b[0m\u001b[0mtree\u001b[0m\u001b[1;33m)\u001b[0m\u001b[1;33m\u001b[0m\u001b[1;33m\u001b[0m\u001b[0m\n\u001b[0m",
      "\u001b[1;31mNameError\u001b[0m: name 'tree' is not defined"
     ]
    }
   ],
   "source": [
    "from collections import namedtuple\n",
    "from sortedcontainers import SortedList  \n",
    "\n",
    "Node = namedtuple('Node', ['frequency', 'subtree'])\n",
    "\n",
    "img = imageio.imread('images/dolly.png', pilmode='L')\n",
    "\n",
    "occurences = np.zeros(256, dtype=np.int32)\n",
    "for img_row in range(img.shape[0]):\n",
    "    for img_col in range(img.shape[1]):\n",
    "        occurences[img[img_row][img_col]] += 1\n",
    "#print(occurences)\n",
    "\n",
    "n_pixels = img.shape[0] * img.shape[1]\n",
    "normed_hist_img = np.zeros_like(occurences, dtype=np.float32)\n",
    "for i in range(len(occurences)):\n",
    "    normed_hist_img[i] = (occurences[i] / n_pixels)             # normalized histogram\n",
    "#print(normed_hist_img)\n",
    "\n",
    "# nodes is a sorted list of sub-trees, each annotated by its cummulative relative frequency,\n",
    "# i.e. each list item is a pair (frequency, subtree)\n",
    "# lowest frequencies come first\n",
    "nodes = SortedList(\n",
    "    [Node(frequency, i) for i, frequency in enumerate(normed_hist_img)],\n",
    "    key=lambda x: x.frequency)\n",
    "\n",
    "\n",
    "# YOUR CODE HERE\n",
    "#print(nodes)\n",
    "first_non_leaf = nodes[0][0] + nodes[1][0]\n",
    "print(first_non_leaf)\n",
    "current_least_likely_symbols = 0\n",
    "for i in range(len(nodes)-1):\n",
    "    current_least_likely_symbols += nodes[i][0]\n",
    "    current_non_leaf_pair = (current_least_likely_symbols, nodes[i+1][0])\n",
    "    print(current_non_leaf_pair)\n",
    "\n",
    "\n",
    "\n",
    "\n",
    "\n",
    "#print(tree) Wie in einen tree packen???"
   ]
  },
  {
   "cell_type": "markdown",
   "metadata": {
    "deletable": false,
    "editable": false,
    "nbgrader": {
     "cell_type": "markdown",
     "checksum": "ea8a920cf219b1d7b4a61922ac98fd9a",
     "grade": false,
     "grade_id": "cell-f0017a3bfc8c198b",
     "locked": true,
     "schema_version": 3,
     "solution": false
    }
   },
   "source": [
    "**c)** Now create a prefix free code from this tree, by traversing it following the idea sketched in (CV-10 slide 7). *Hint:* if you used the tuple representation recommended in (b), you can use `isinstance(node, tuple)` to check if `node` is an inner node or a leaf."
   ]
  },
  {
   "cell_type": "code",
   "execution_count": null,
   "metadata": {
    "deletable": false,
    "nbgrader": {
     "cell_type": "code",
     "checksum": "7e0d28c46c083c255787a70905389dae",
     "grade": true,
     "grade_id": "cell-4c18bcf5c721980ba",
     "locked": false,
     "points": 1,
     "schema_version": 3,
     "solution": true
    }
   },
   "outputs": [],
   "source": [
    "# initialize a list of code values\n",
    "codes = list(normed_hist_img)\n",
    "\n",
    "# function to recursively traverse the tree.\n",
    "# For every inner node assign prefix \"0\" to the left subtree\n",
    "# and prefix \"1\" to the right subtree.\n",
    "def assign_codes(codes, tree, prefix=''):\n",
    "    # YOUR CODE HERE\n",
    "\n",
    "assign_codes(codes, tree.subtree)\n",
    "print(codes)"
   ]
  },
  {
   "cell_type": "markdown",
   "metadata": {
    "deletable": false,
    "editable": false,
    "nbgrader": {
     "cell_type": "markdown",
     "checksum": "339b8d8e39dc366ab640174745f19dde",
     "grade": false,
     "grade_id": "cell-be6782bbc1933025",
     "locked": true,
     "schema_version": 3,
     "solution": false
    }
   },
   "source": [
    "**d)** Compute the compression ratio that you can achieve with that code. Compare this with the maximal value computed in part (a). Explain your observation."
   ]
  },
  {
   "cell_type": "code",
   "execution_count": null,
   "metadata": {
    "deletable": false,
    "nbgrader": {
     "cell_type": "code",
     "checksum": "576bfc366512d561564f99430963e328",
     "grade": true,
     "grade_id": "cell-ae3307c0f07aea91",
     "locked": false,
     "points": 2,
     "schema_version": 3,
     "solution": true
    }
   },
   "outputs": [],
   "source": [
    "acc = 0\n",
    "for value, code in enumerate(codes):\n",
    "    # YOUR CODE HERE\n",
    "\n",
    "print(\"{:.2f} bits per pixel\".format(acc))"
   ]
  },
  {
   "cell_type": "markdown",
   "metadata": {
    "collapsed": true,
    "deletable": false,
    "nbgrader": {
     "cell_type": "markdown",
     "checksum": "4497d781a6fb943645b406bf0d6998bd",
     "grade": true,
     "grade_id": "cell-67f20617995a24ff",
     "locked": false,
     "points": 1,
     "schema_version": 3,
     "solution": true
    },
    "solution": true
   },
   "source": [
    "YOUR ANSWER HERE"
   ]
  },
  {
   "cell_type": "markdown",
   "metadata": {
    "deletable": false,
    "editable": false,
    "nbgrader": {
     "cell_type": "markdown",
     "checksum": "1939385cb1d04435d67a8a66e1b0dc93",
     "grade": false,
     "grade_id": "cell-a7ec0ae03a0ae285",
     "locked": true,
     "schema_version": 3,
     "solution": false
    }
   },
   "source": [
    "## Assignment 3: Run length encoding [8 Points]\n"
   ]
  },
  {
   "cell_type": "markdown",
   "metadata": {
    "deletable": false,
    "editable": false,
    "nbgrader": {
     "cell_type": "markdown",
     "checksum": "5aa242cd396f69a1119bfc505df61da2",
     "grade": false,
     "grade_id": "cell-415382376019ed22",
     "locked": true,
     "schema_version": 3,
     "solution": false
    }
   },
   "source": [
    "**a)** Explain the idea of *run length encoding*. What are advantages and disadvantages? In what situations should it be applied?"
   ]
  },
  {
   "cell_type": "markdown",
   "metadata": {
    "collapsed": true,
    "deletable": false,
    "nbgrader": {
     "cell_type": "markdown",
     "checksum": "2a7418394f74feb3a9022b7b887571f7",
     "grade": true,
     "grade_id": "cell-7ac3249713d0b868",
     "locked": false,
     "points": 2,
     "schema_version": 3,
     "solution": true
    },
    "solution": true
   },
   "source": [
    "Run Length Encoding (RLE) combines and encodes neighboring pixels as one segment if they have the identical gray/ color value. The encoding is conducted line by line. The segments are encoded in the form (number, value), so in the worst case, if there are no segments with same gray/ color values, the amount of data is doubled."
   ]
  },
  {
   "cell_type": "markdown",
   "metadata": {
    "deletable": false,
    "editable": false,
    "nbgrader": {
     "cell_type": "markdown",
     "checksum": "68f99c14103f4ecaf5c251272dda7c27",
     "grade": false,
     "grade_id": "cell-e8eb7016299142a6",
     "locked": true,
     "schema_version": 3,
     "solution": false
    }
   },
   "source": [
    "**b)** Analyze the run lengths in a gray scale image (8 bit = 256 gray values) by counting the number of runs and the average run length and displaying a histogram of the run lengths. What do you observe? Can you benefit from run length encoding here? (you may use `dolly.png` as an example again, but you may also experiment with other images. Make sure to load it as 8-bit gray scale image)."
   ]
  },
  {
   "cell_type": "code",
   "execution_count": null,
   "metadata": {
    "deletable": false,
    "nbgrader": {
     "cell_type": "code",
     "checksum": "0292a1cddd04b8796ba034c7ef197fbf",
     "grade": true,
     "grade_id": "cell-c61791fc64b45bcf",
     "locked": false,
     "points": 1,
     "schema_version": 3,
     "solution": true
    }
   },
   "outputs": [],
   "source": [
    "import numpy as np\n",
    "import imageio\n",
    "import matplotlib.pyplot as plt\n",
    "\n",
    "img = imageio.imread('images/dolly.png', pilmode='L')\n",
    "\n",
    "# YOUR CODE HERE"
   ]
  },
  {
   "cell_type": "markdown",
   "metadata": {
    "collapsed": true,
    "deletable": false,
    "nbgrader": {
     "cell_type": "markdown",
     "checksum": "923b05a8ff6d1bfff9d9f23d86d41bd5",
     "grade": true,
     "grade_id": "cell-647dd8ad7cd04460",
     "locked": false,
     "points": 1,
     "schema_version": 3,
     "solution": true
    },
    "solution": true
   },
   "source": [
    "YOUR ANSWER HERE"
   ]
  },
  {
   "cell_type": "markdown",
   "metadata": {
    "deletable": false,
    "editable": false,
    "nbgrader": {
     "cell_type": "markdown",
     "checksum": "797b9b7a4bd7d231cc83bc9487269125",
     "grade": false,
     "grade_id": "cell-1c1500aa256b9686",
     "locked": true,
     "schema_version": 3,
     "solution": false
    }
   },
   "source": [
    "**c)** Now consider the individual bit planes. First display the bit planes as in (CV-10 slide 10ff). What do you observe? Apply your analysis from part (b) to each bitplane."
   ]
  },
  {
   "cell_type": "code",
   "execution_count": null,
   "metadata": {
    "deletable": false,
    "nbgrader": {
     "cell_type": "code",
     "checksum": "444057e0d98cefebaeea036c72159bf4",
     "grade": true,
     "grade_id": "cell-1decc44824d08571",
     "locked": false,
     "points": 1,
     "schema_version": 3,
     "solution": true
    }
   },
   "outputs": [],
   "source": [
    "import numpy as np\n",
    "import imageio\n",
    "import matplotlib.pyplot as plt\n",
    "\n",
    "img = imageio.imread('images/dolly.png', pilmode='L')\n",
    "\n",
    "# YOUR CODE HERE"
   ]
  },
  {
   "cell_type": "markdown",
   "metadata": {
    "collapsed": true,
    "deletable": false,
    "nbgrader": {
     "cell_type": "markdown",
     "checksum": "7cbb4a3ee9d6b2d30b0acf274fcf0b45",
     "grade": true,
     "grade_id": "cell-ac74097966cc4cfd",
     "locked": false,
     "points": 1,
     "schema_version": 3,
     "solution": true
    },
    "solution": true
   },
   "source": [
    "YOUR ANSWER HERE"
   ]
  },
  {
   "cell_type": "markdown",
   "metadata": {
    "deletable": false,
    "editable": false,
    "nbgrader": {
     "cell_type": "markdown",
     "checksum": "6c21f233d0d0ffeefe36a456fad68575",
     "grade": false,
     "grade_id": "cell-902776d0877d8cbf",
     "locked": true,
     "schema_version": 3,
     "solution": false
    }
   },
   "source": [
    "**d)** Explain the idea of the *Gray code*. Why is it better suited for run length encoding? Compute a Gray code for a 256 bit image and recode the image `dolly.png`. Then analyze the run lengths of the individual bit planes of the recoded image."
   ]
  },
  {
   "cell_type": "markdown",
   "metadata": {
    "collapsed": true,
    "deletable": false,
    "nbgrader": {
     "cell_type": "markdown",
     "checksum": "fe349ce812e79aac007dd0e015cbb444",
     "grade": true,
     "grade_id": "cell-3aa28a8b5bfa9810",
     "locked": false,
     "points": 1,
     "schema_version": 3,
     "solution": true
    },
    "solution": true
   },
   "source": [
    "YOUR ANSWER HERE"
   ]
  },
  {
   "cell_type": "code",
   "execution_count": null,
   "metadata": {
    "deletable": false,
    "nbgrader": {
     "cell_type": "code",
     "checksum": "373f5dda43b52882cb9c0974f51e1584",
     "grade": true,
     "grade_id": "cell-3e854b9e4c5f7eb0",
     "locked": false,
     "points": 1,
     "schema_version": 3,
     "solution": true
    }
   },
   "outputs": [],
   "source": [
    "import numpy as np\n",
    "import imageio\n",
    "import matplotlib.pyplot as plt\n",
    "\n",
    "img = imageio.imread('images/dolly.png', pilmode='L')\n",
    "\n",
    "# YOUR CODE HERE"
   ]
  }
 ],
 "metadata": {
  "hide_input": false,
  "kernelspec": {
   "display_name": "Python 3",
   "language": "python",
   "name": "python3"
  },
  "language_info": {
   "codemirror_mode": {
    "name": "ipython",
    "version": 3
   },
   "file_extension": ".py",
   "mimetype": "text/x-python",
   "name": "python",
   "nbconvert_exporter": "python",
   "pygments_lexer": "ipython3",
   "version": "3.8.6"
  },
  "toc": {
   "base_numbering": 1,
   "nav_menu": {},
   "number_sections": true,
   "sideBar": true,
   "skip_h1_title": false,
   "title_cell": "Table of Contents",
   "title_sidebar": "Contents",
   "toc_cell": false,
   "toc_position": {},
   "toc_section_display": "block",
   "toc_window_display": false
  },
  "varInspector": {
   "cols": {
    "lenName": 16,
    "lenType": 16,
    "lenVar": 40
   },
   "kernels_config": {
    "python": {
     "delete_cmd_postfix": "",
     "delete_cmd_prefix": "del ",
     "library": "var_list.py",
     "varRefreshCmd": "print(var_dic_list())"
    },
    "r": {
     "delete_cmd_postfix": ") ",
     "delete_cmd_prefix": "rm(",
     "library": "var_list.r",
     "varRefreshCmd": "cat(var_dic_list()) "
    }
   },
   "types_to_exclude": [
    "module",
    "function",
    "builtin_function_or_method",
    "instance",
    "_Feature"
   ],
   "window_display": false
  },
  "widgets": {
   "state": {},
   "version": "1.1.2"
  }
 },
 "nbformat": 4,
 "nbformat_minor": 1
}
