{
 "cells": [
  {
   "cell_type": "markdown",
   "metadata": {
    "slideshow": {
     "slide_type": "slide"
    }
   },
   "source": [
    "# Computer Vision (Winter 2019/20)"
   ]
  },
  {
   "cell_type": "markdown",
   "metadata": {},
   "source": [
    "## Practice Session 07"
   ]
  },
  {
   "cell_type": "markdown",
   "metadata": {},
   "source": [
    "December 1st, 2020"
   ]
  },
  {
   "cell_type": "markdown",
   "metadata": {},
   "source": [
    "Axel Schaffland, Ulf Krumnack\n",
    "\n",
    "Institute of Cognitive Science\n",
    "University of Osnabrück"
   ]
  },
  {
   "cell_type": "markdown",
   "metadata": {
    "slideshow": {
     "slide_type": "subslide"
    }
   },
   "source": [
    "## Today's Session"
   ]
  },
  {
   "cell_type": "markdown",
   "metadata": {},
   "source": [
    "* Down- and upsampling, pyramids\n",
    "* Gradient images"
   ]
  },
  {
   "cell_type": "code",
   "execution_count": null,
   "metadata": {
    "scrolled": false
   },
   "outputs": [],
   "source": [
    "%matplotlib notebook\n",
    "import imageio\n",
    "import numpy as np\n",
    "from skimage.color import rgb2gray\n",
    "from scipy.ndimage import convolve\n",
    "from matplotlib import pyplot as plt, patches\n",
    "from ipywidgets import interactive, fixed, Dropdown\n",
    "\n",
    "image = rgb2gray(imageio.imread('imageio:chelsea.png'))\n",
    "\n",
    "\n",
    "def build_pyramid(image, filter=np.asarray([1.,4.,6.,4.,1.])):\n",
    "    \n",
    "    if filter is not None:\n",
    "        filter /= filter.sum()\n",
    "        if len(filter.shape) == 1:\n",
    "            filter = filter.reshape(1,-1)\n",
    "            filter = filter.T @ filter\n",
    "\n",
    "    pyramid = [image]\n",
    "    minimal_size = 5 if filter is None else len(filter)\n",
    "    while min(image.shape) >= minimal_size:\n",
    "        image = pyramid[-1]\n",
    "        if filter is not None:\n",
    "            image = convolve(image, filter, mode='constant')\n",
    "        image = image[::2,::2]\n",
    "        pyramid.append(image)\n",
    "    return pyramid\n",
    "\n",
    "pyramid1 = build_pyramid(image)\n",
    "pyramid2 = build_pyramid(image, filter=None)\n",
    "\n",
    "columns = 2\n",
    "rows = len(pyramid1)\n",
    "fig_width = 8\n",
    "fig_height = (rows * fig_width * image.shape[0]) // (columns * image.shape[1])\n",
    "fig, ax = plt.subplots(rows, columns, figsize=(fig_width, fig_height))\n",
    "plt.gray()\n",
    "\n",
    "for level, (image1, image2) in enumerate(zip(pyramid1, pyramid2)):\n",
    "    ax[level,0].set_title(f\"Image {level} with filtering {image1.shape}\")\n",
    "    ax[level,0].imshow(image1)\n",
    "    ax[level,1].set_title(f\"Image {level} without filtering {image2.shape}\")\n",
    "    ax[level,1].imshow(image2)\n",
    "\n",
    "plt.tight_layout()\n",
    "plt.show()"
   ]
  },
  {
   "cell_type": "code",
   "execution_count": null,
   "metadata": {
    "scrolled": false
   },
   "outputs": [],
   "source": [
    "def stack_images(pyramid):\n",
    "    \"\"\"Stack all images of an image pyramid into one image.\n",
    "    \n",
    "    Arguments\n",
    "    ---------\n",
    "    pyramid: List[np.ndarray]\n",
    "        The images of the pyramid in decreasing size.\n",
    "        \n",
    "    Result\n",
    "    ------\n",
    "    result: np.ndarray\n",
    "        The resulting image, having the size of the largest\n",
    "        image in the pyramid.\n",
    "    \"\"\"\n",
    "    result = np.ndarray(pyramid[0].shape)\n",
    "    for image in pyramid:\n",
    "        result[:image.shape[0],:image.shape[1]] = image\n",
    "    return result\n",
    "\n",
    "stacked = stack_images(pyramid1)\n",
    "\n",
    "plt.figure()\n",
    "plt.imshow(stacked)\n",
    "plt.show()"
   ]
  },
  {
   "cell_type": "code",
   "execution_count": null,
   "metadata": {},
   "outputs": [],
   "source": [
    "import itertools\n",
    "from scipy.ndimage import convolve\n",
    "\n",
    "def expand(image):\n",
    "    \"\"\"The expand operation from CV-07, slide 33.\n",
    "    \n",
    "    Arguments\n",
    "    ---------\n",
    "    image: np.ndarray\n",
    "        The image to be exanded\n",
    "\n",
    "    Result\n",
    "    ------\n",
    "    expanded: np.ndarray\n",
    "        The expanded image\n",
    "    \"\"\"\n",
    "    filter = [np.asarray([1,6,1])/8, np.asarray([4, 4])/8.]\n",
    "    expanded = np.zeros((image.shape[0]*2, image.shape[1]*2))\n",
    "    for dx,dy in itertools.product((0,1), (0,1)):\n",
    "        kernel = filter[dx].reshape(-1,1) @ filter[dy].reshape(1,-1)\n",
    "        expanded[dx::2,dy::2] = convolve(image, kernel)\n",
    "    return expanded\n",
    "\n",
    "image = pyramid1[3]\n",
    "expanded = expand(image)\n",
    "        \n",
    "fig, ax = plt.subplots(1, 2, figsize=(8,3))\n",
    "ax[0].set_title(\"Downscaled image\")\n",
    "ax[0].imshow(image)\n",
    "\n",
    "ax[1].set_title(\"Expanded image\")\n",
    "ax[1].imshow(expanded)\n",
    "\n",
    "plt.show()"
   ]
  },
  {
   "cell_type": "code",
   "execution_count": null,
   "metadata": {},
   "outputs": [],
   "source": [
    "%matplotlib notebook\n",
    "import itertools\n",
    "import imageio\n",
    "import numpy as np\n",
    "from matplotlib import pyplot as plt, patches\n",
    "from ipywidgets import interactive, fixed, Dropdown\n",
    "\n",
    "marker = patches.Rectangle((-.5, -.5), 1, 1, fill=False, snap=False, edgecolor='g')\n",
    "marker2 = patches.Rectangle((-.5, -.5), 1, 1, fill=False, snap=False, edgecolor='g', lw=3)\n",
    "boxes = []\n",
    "\n",
    "def set_boxes(position):\n",
    "    global boxes\n",
    "    \n",
    "    # set target box\n",
    "    marker.set_xy((position[0]-.5, position[1]-.5))\n",
    "    marker2.set_xy((position[0]/2-.5, position[1]/2-.5))\n",
    "    \n",
    "    # remove old boxes\n",
    "    for box in boxes:\n",
    "        box.remove()\n",
    "    boxes = []\n",
    "    \n",
    "    # create new boxes\n",
    "    x_offsets = (-1,0,1) if position[0]%2 == 0 else (-.5,.5)\n",
    "    y_offsets = (-1,0,1) if position[1]%2 == 0 else (-.5,.5)\n",
    "    x, y = position[0]/2, position[1]/2\n",
    "    for dx, dy in itertools.product(x_offsets, y_offsets):\n",
    "        box = patches.Rectangle((x+dx-.5, y+dy-.5), 1, 1,\n",
    "                                fill=False, snap=False, edgecolor = 'r')\n",
    "        ax[0].add_patch(box)\n",
    "        boxes.append(box)\n",
    "\n",
    "def on_press(event):\n",
    "    \"\"\"Mouse button press event handler. Move the zoom to another image location\n",
    "    \n",
    "    Args:\n",
    "        event: The mouse event\n",
    "    \"\"\"\n",
    "    x, y = int(event.xdata), int(event.ydata)\n",
    "    if event.inaxes == ax[0]:\n",
    "        set_boxes((x*2, y*2))\n",
    "        ax[0].set_title(f\"Pixel at ({x}, {y})\")\n",
    "        ax[1].set_title(\"\")\n",
    "    elif event.inaxes == ax[1]:\n",
    "        set_boxes((x, y))\n",
    "        ax[0].set_title(\"\")\n",
    "        ax[1].set_title(f\"Pixel at ({x}, {y})\")\n",
    "\n",
    "    fig.canvas.draw()\n",
    "\n",
    "pyramid = pyramid2\n",
    "level = 5\n",
    "full = True\n",
    "\n",
    "image = pyramid[6]\n",
    "if full:\n",
    "    expanded = expand(image)\n",
    "else:\n",
    "    image_upscaled = np.zeros((image.shape[0]*2, image.shape[1]*2))\n",
    "    image_upscaled[::2,::2] = image\n",
    "\n",
    "fig, ax = plt.subplots(1, 2, figsize=(8,3))\n",
    "ax[0].imshow(image)\n",
    "ax[0].add_patch(marker2)\n",
    "\n",
    "ax[1].imshow(expanded)\n",
    "ax[1].add_patch(marker)\n",
    "set_boxes((4,4))\n",
    "cid = fig.canvas.mpl_connect('button_press_event', on_press)\n",
    "plt.show()"
   ]
  },
  {
   "cell_type": "markdown",
   "metadata": {},
   "source": [
    "### Matplotlib interpolation \n",
    "\n",
    "Matplotlib offers a series of [interpolation methods](http://matplotlib.org/examples/images_contours_and_fields/interpolation_methods.html) for displaying images.\n",
    "From the [docs](http://matplotlib.org/api/pyplot_api.html#matplotlib.pyplot.imshow):\n",
    "\n",
    "> If interpolation is None, default to rc image.interpolation. See also\n",
    "> the filternorm and filterrad parameters. If interpolation is 'none', then\n",
    "> no interpolation is performed on the Agg, ps and pdf backends. Other\n",
    "> backends will fall back to 'nearest'.\n",
    "\n",
    "The following cell shows all the different interpolation methods for `imshow`:"
   ]
  },
  {
   "cell_type": "code",
   "execution_count": null,
   "metadata": {},
   "outputs": [],
   "source": [
    "%matplotlib inline\n",
    "import matplotlib.pyplot as plt\n",
    "import numpy as np\n",
    "\n",
    "\n",
    "print(f\"Matplotlib default interpolation method is {plt.rc('image.interpolation')}\")\n",
    "methods = [None, 'none', 'nearest', 'bilinear', 'bicubic', 'spline16',\n",
    "           'spline36', 'hanning', 'hamming', 'hermite', 'kaiser', 'quadric',\n",
    "           'catrom', 'gaussian', 'bessel', 'mitchell', 'sinc', 'lanczos']\n",
    "\n",
    "np.random.seed(0)\n",
    "grid = np.random.rand(4, 4)\n",
    "\n",
    "\n",
    "fig, axes = plt.subplots(3, 6, figsize=(12, 6),\n",
    "                         subplot_kw={'xticks': [], 'yticks': []})\n",
    "\n",
    "fig.subplots_adjust(hspace=0.3, wspace=0.05)\n",
    "\n",
    "for ax, interp_method in zip(axes.flat, methods):\n",
    "    ax.imshow(grid, interpolation=interp_method, cmap='viridis')\n",
    "    ax.set_title(interp_method)\n",
    "\n",
    "plt.show()"
   ]
  },
  {
   "cell_type": "markdown",
   "metadata": {},
   "source": [
    "## Image gradients"
   ]
  },
  {
   "cell_type": "markdown",
   "metadata": {},
   "source": [
    "### Horizontal/Vertical Sobel Filer\n",
    "\n",
    "\n",
    "**Horizontal Sobel**\n",
    "$$G_x = \\begin{bmatrix}\n",
    "-1 & 0 & 1 \\\\\n",
    "-2 & 0 & 1 \\\\\n",
    "-1 & 0 & 1 \\\\\n",
    "\\end{bmatrix}$$\n",
    "\n",
    "* Horizontal changes/gradient\n",
    "* Vertical edges\n",
    "\n",
    "**Vertical Sobel**\n",
    "$$G_y = \\begin{bmatrix}\n",
    "-1 & -2 & -1 \\\\\n",
    "0 & 0 & 0 \\\\\n",
    "1 & 2 & 1 \\\\\n",
    "\\end{bmatrix}$$\n",
    "\n",
    "* Vertical changes/gradient\n",
    "* Horizontal edges\n",
    "\n",
    "\n",
    "For horizontal x-axis and vertical y-axis."
   ]
  },
  {
   "cell_type": "code",
   "execution_count": null,
   "metadata": {},
   "outputs": [],
   "source": [
    "# Some auxiliar functions\n",
    "\n",
    "import matplotlib as mpl\n",
    "from scipy.signal import convolve2d\n",
    "\n",
    "\n",
    "def show_image_row(ax, img, row = None, axis = 0):\n",
    "    \"\"\"Show an image, highlighting a row.\n",
    "    \"\"\"\n",
    "    ax.imshow(img, interpolation = 'none')\n",
    "    if row is not None:\n",
    "        marker_height = ceil(img.shape[0]*.01)\n",
    "        marker = mpl.patches.Rectangle((0,row-(marker_height//2)), img.shape[1], marker_height, snap=False, edgecolor = 'r', alpha=.3)\n",
    "        ax.add_patch(marker)\n",
    "\n",
    "def show_image_row_function(ax, img, row, format = 'r'):\n",
    "    \"\"\"Show an image row as function.\n",
    "    \"\"\"\n",
    "    line = img[row,:]\n",
    "    ax.imshow(line[np.newaxis].repeat(256,0), aspect='auto', origin='lower')\n",
    "    ax.plot(line, format)\n",
    "\n",
    "def show_image_and_function(img, row = None):\n",
    "\n",
    "    plt.figure(figsize=(12,6))\n",
    "    plt.gray()\n",
    "\n",
    "    if row is None:\n",
    "        ax = plt.gca()\n",
    "    else:\n",
    "        ax = plt.subplot(1,2,1)\n",
    "        row = round(row*img.shape[0])\n",
    "\n",
    "    show_image_row(ax, img, row)\n",
    "\n",
    "    if row is not None:\n",
    "        show_image_row_function(plt.subplot(1,2,2), img, row)\n",
    "\n",
    "    plt.show()"
   ]
  },
  {
   "cell_type": "code",
   "execution_count": null,
   "metadata": {},
   "outputs": [],
   "source": [
    "%matplotlib inline\n",
    "import numpy as np\n",
    "import matplotlib as mpl\n",
    "import matplotlib.pyplot as plt\n",
    "from skimage import color\n",
    "from scipy import ndimage\n",
    "from math import ceil\n",
    "import imageio\n",
    "\n",
    "img = color.rgb2gray(imageio.imread('imageio:camera.png').astype(np.float))\n",
    "show_image_and_function(img, row = .21)"
   ]
  },
  {
   "cell_type": "code",
   "execution_count": null,
   "metadata": {},
   "outputs": [],
   "source": [
    "%matplotlib inline\n",
    "import numpy as np\n",
    "\n",
    "grad_img = np.gradient(img, axis=1)\n",
    "show_image_and_function(grad_img, row = .42)"
   ]
  },
  {
   "cell_type": "markdown",
   "metadata": {},
   "source": [
    "## Computing the gradient image (scikit image)"
   ]
  },
  {
   "cell_type": "code",
   "execution_count": null,
   "metadata": {},
   "outputs": [],
   "source": [
    "import numpy as np\n",
    "import matplotlib.pyplot as plt\n",
    "from skimage import data, exposure, color, filters\n",
    "\n",
    "image = color.rgb2gray(data.astronaut())\n",
    "gradient_x = filters.sobel(image, axis=1)\n",
    "gradient_y = filters.sobel(image, axis=0)\n",
    "\n",
    "fig, (ax1, ax2, ax3) = plt.subplots(1, 3, figsize=(12, 4), sharex=True, sharey=True)\n",
    "\n",
    "ax1.axis('off')\n",
    "ax1.imshow(image, cmap=plt.cm.gray)\n",
    "ax1.set_title('Input image')\n",
    "\n",
    "ax2.axis('off')\n",
    "ax2.imshow(gradient_x, cmap=plt.cm.gray)\n",
    "ax2.set_title('Horizontal gradients')\n",
    "\n",
    "ax3.axis('off')\n",
    "ax3.imshow(gradient_y, cmap=plt.cm.gray)\n",
    "ax3.set_title('Vertical gradients')\n",
    "plt.show()"
   ]
  },
  {
   "cell_type": "markdown",
   "metadata": {},
   "source": [
    "From horizontal and vertical gradients we can compute:\n",
    "* gradient magnitude: $\\sqrt{g_x^2+g_y^2}$\n",
    "* gradient direction: $\\arctan\\frac{g_y}{g_x}$"
   ]
  },
  {
   "cell_type": "code",
   "execution_count": null,
   "metadata": {},
   "outputs": [],
   "source": [
    "gradient_mag = np.sqrt(gradient_x**2 + gradient_y**2)\n",
    "gradient_angle = np.arctan2(gradient_y, gradient_x)"
   ]
  },
  {
   "cell_type": "code",
   "execution_count": null,
   "metadata": {},
   "outputs": [],
   "source": [
    "plt.figure(figsize=(12, 12))\n",
    "plt.gray()\n",
    "plt.imshow(gradient_mag)\n",
    "plt.show()"
   ]
  },
  {
   "cell_type": "code",
   "execution_count": null,
   "metadata": {},
   "outputs": [],
   "source": [
    "threshold = 0.3 * gradient_mag.max()\n",
    "\n",
    "plt.figure(figsize=(12, 12))\n",
    "plt.gray()\n",
    "plt.imshow(gradient_mag > threshold)\n",
    "plt.show()"
   ]
  },
  {
   "cell_type": "markdown",
   "metadata": {},
   "source": [
    "## The gradient direction"
   ]
  },
  {
   "cell_type": "code",
   "execution_count": null,
   "metadata": {},
   "outputs": [],
   "source": [
    "%matplotlib notebook\n",
    "import numpy as np\n",
    "import matplotlib.pyplot as plt\n",
    "from skimage import color, filters\n",
    "\n",
    "def get_quiver_gradient(gradient_x, gradient_y, gradient_mag, grid=(10, 10), threshold=0.3, stretch = 30):\n",
    "    threshold_mag = threshold * gradient_mag.max()\n",
    "\n",
    "    X, Y, U, V = [], [], [], []\n",
    "    for block in np.ndindex(gradient_mag.shape[0]//grid[0], gradient_mag.shape[1]//grid[1]):\n",
    "        patch = gradient_mag[block[0]:min(block[0]+grid[0],gradient_mag.shape[0]),\n",
    "                             block[1]:min(block[1]+grid[1],gradient_mag.shape[1])]\n",
    "        y,x = np.unravel_index(patch.argmax(), patch.shape)\n",
    "        y += block[0] * grid[0]\n",
    "        x += block[1] * grid[1]\n",
    "        if gradient_mag[y,x] > threshold_mag:\n",
    "            X.append(x)\n",
    "            Y.append(y)\n",
    "            U.append(gradient_x[y,x]*stretch)\n",
    "            V.append(-gradient_y[y,x]*stretch)\n",
    "    return X, Y, U, V\n",
    "\n",
    "def plot_gradient_image(ax, image, threshold=0.3, show='magnitude', arrows=True):\n",
    "    gray_image = color.rgb2gray(image)\n",
    "    gradient_x = filters.sobel(gray_image, axis=1)\n",
    "    gradient_y = filters.sobel(gray_image, axis=0)\n",
    "    gradient_mag = np.sqrt(gradient_x**2 + gradient_y**2)\n",
    "    \n",
    "    if arrows:\n",
    "        X, Y, U, V = get_quiver_gradient(gradient_x, gradient_y, gradient_mag, threshold=threshold)\n",
    "\n",
    "    global artist_image, artist_quiver\n",
    "    if show == 'magnitude':\n",
    "        show_image = gradient_mag\n",
    "    elif show == 'x':\n",
    "        show_image = gradient_x\n",
    "    elif show == 'y':\n",
    "        show_image = gradient_y\n",
    "    elif show == 'threshold':\n",
    "        show_image = gradient_mag > 0.3 * gradient_mag.max()\n",
    "    elif show == 'original':\n",
    "        show_image = image\n",
    "    elif show == 'gray':\n",
    "        show_image = gray_image\n",
    "    elif show == 'color':\n",
    "        # color coded gradient direction\n",
    "        hsv_image = np.ndarray(shape=gradient_mag.shape + (3,))\n",
    "        gradient_angle = np.arctan2(gradient_y, gradient_x)\n",
    "        hsv_image[:,:,0] = (gradient_angle + np.pi) / (2*np.pi)\n",
    "        # the following may also be swapped:\n",
    "        hsv_image[:,:,1] = gradient_mag/gradient_mag.max()\n",
    "        hsv_image[:,:,2] = 1.0\n",
    "        show_image = color.hsv2rgb(hsv_image)\n",
    "    else:\n",
    "        raise ValueError(f\"invalid show argument: '{show}'\")\n",
    "    if artist_image is None:\n",
    "        artist_image = ax.imshow(show_image)\n",
    "    else:\n",
    "        artist_image.set_data(show_image)\n",
    "\n",
    "    if artist_quiver is not None:\n",
    "        artist_quiver.remove()\n",
    "        # del quiver_artist\n",
    "    if arrows:\n",
    "        artist_quiver = ax.quiver(X, Y, U, V, color='y')"
   ]
  },
  {
   "cell_type": "code",
   "execution_count": null,
   "metadata": {
    "scrolled": false
   },
   "outputs": [],
   "source": [
    "import matplotlib.pyplot as plt\n",
    "from skimage import data\n",
    "assert 'plot_gradient_image' in globals(), \"Make sure that 'plot_gradient_image' is defined.\"\n",
    "\n",
    "artist_image = None\n",
    "artist_quiver = None\n",
    "fig = plt.figure(figsize=(12, 12))\n",
    "ax = fig.gca()\n",
    "plt.gray()\n",
    "plt.show()\n",
    "\n",
    "image = data.astronaut()\n",
    "plot_gradient_image(ax, image, threshold=.2)  # show='original','gray'\n",
    "fig.canvas.draw()"
   ]
  },
  {
   "cell_type": "markdown",
   "metadata": {},
   "source": [
    "## Gradient directions as color"
   ]
  },
  {
   "cell_type": "code",
   "execution_count": null,
   "metadata": {},
   "outputs": [],
   "source": [
    "import matplotlib.pyplot as plt\n",
    "from skimage import data\n",
    "assert 'plot_gradient_image' in globals(), \"Make sure that 'plot_gradient_image' is defined.\"\n",
    "\n",
    "artist_image = None\n",
    "artist_quiver = None\n",
    "fig = plt.figure(figsize=(12, 12))\n",
    "ax = fig.gca()\n",
    "plt.gray()\n",
    "plt.show()\n",
    "\n",
    "image = data.astronaut()\n",
    "plot_gradient_image(ax, image, threshold=.2, show='color', arrows=False)\n",
    "fig.canvas.draw()"
   ]
  }
 ],
 "metadata": {
  "celltoolbar": "Create Assignment",
  "hide_input": false,
  "kernelspec": {
   "display_name": "Python 3",
   "language": "python",
   "name": "python3"
  },
  "language_info": {
   "codemirror_mode": {
    "name": "ipython",
    "version": 3
   },
   "file_extension": ".py",
   "mimetype": "text/x-python",
   "name": "python",
   "nbconvert_exporter": "python",
   "pygments_lexer": "ipython3",
   "version": "3.8.6"
  },
  "toc": {
   "base_numbering": 1,
   "nav_menu": {},
   "number_sections": true,
   "sideBar": true,
   "skip_h1_title": false,
   "title_cell": "Table of Contents",
   "title_sidebar": "Contents",
   "toc_cell": false,
   "toc_position": {},
   "toc_section_display": true,
   "toc_window_display": false
  },
  "varInspector": {
   "cols": {
    "lenName": 16,
    "lenType": 16,
    "lenVar": 40
   },
   "kernels_config": {
    "python": {
     "delete_cmd_postfix": "",
     "delete_cmd_prefix": "del ",
     "library": "var_list.py",
     "varRefreshCmd": "print(var_dic_list())"
    },
    "r": {
     "delete_cmd_postfix": ") ",
     "delete_cmd_prefix": "rm(",
     "library": "var_list.r",
     "varRefreshCmd": "cat(var_dic_list()) "
    }
   },
   "types_to_exclude": [
    "module",
    "function",
    "builtin_function_or_method",
    "instance",
    "_Feature"
   ],
   "window_display": false
  }
 },
 "nbformat": 4,
 "nbformat_minor": 2
}
