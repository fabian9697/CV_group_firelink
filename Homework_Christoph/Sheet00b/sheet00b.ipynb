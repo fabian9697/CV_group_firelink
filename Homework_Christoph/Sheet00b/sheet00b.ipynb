{
 "cells": [
  {
   "cell_type": "markdown",
   "metadata": {
    "deletable": false,
    "editable": false,
    "nbgrader": {
     "cell_type": "markdown",
     "checksum": "71319db685bffbe066b3c06ee591e857",
     "grade": false,
     "grade_id": "h00",
     "locked": true,
     "schema_version": 3,
     "solution": false
    }
   },
   "source": [
    "Osnabrück University - Computer Vision (Winter Term 2020/21) - Prof. Dr.-Ing. G. Heidemann, Ulf Krumnack, Axel Schaffland"
   ]
  },
  {
   "cell_type": "markdown",
   "metadata": {
    "deletable": false,
    "editable": false,
    "nbgrader": {
     "cell_type": "markdown",
     "checksum": "8264604739bf3632a81d1d2ed1071023",
     "grade": false,
     "grade_id": "h01",
     "locked": true,
     "schema_version": 3,
     "solution": false
    }
   },
   "source": [
    "# Exercise Sheet 00b: Cameras and Noise"
   ]
  },
  {
   "cell_type": "markdown",
   "metadata": {
    "deletable": false,
    "editable": false,
    "nbgrader": {
     "cell_type": "markdown",
     "checksum": "a0a99be7300fe44696eda8703453920e",
     "grade": false,
     "grade_id": "h02",
     "locked": true,
     "schema_version": 3,
     "solution": false
    }
   },
   "source": [
    "## Introduction\n",
    "\n",
    "This is the second introductory exercise sheet. You are not require to submit your solutions.\n",
    "\n",
    "In case of questions, feel free to post them to the forum and/or raise them in the next practice session."
   ]
  },
  {
   "cell_type": "markdown",
   "metadata": {
    "deletable": false,
    "editable": false,
    "nbgrader": {
     "cell_type": "markdown",
     "checksum": "116b2d6016e8f5ec90e0f0cacfdd535f",
     "grade": false,
     "grade_id": "cell-d79a9e4f15cd77ba",
     "locked": true,
     "schema_version": 3,
     "solution": false,
     "task": false
    }
   },
   "source": [
    "## Assignment 1: Pinhole Camera and One Chip Cameras\n",
    "In this assignment we will use the pinhole camera model and formulae from slides CV-02 page 10.\n",
    "\n",
    "Imagine a very low budget autonomous car with a pinhole camera with a focal length of $24\\,\\text{mm}$ at the front.\n",
    "\n",
    "![slides2_10.png](slides2_10.png)\n"
   ]
  },
  {
   "cell_type": "markdown",
   "metadata": {
    "deletable": false,
    "editable": false,
    "nbgrader": {
     "cell_type": "markdown",
     "checksum": "04d7711090a0b8a423617a897dda342e",
     "grade": false,
     "grade_id": "cell-665a39d299146b0c",
     "locked": true,
     "schema_version": 3,
     "solution": false,
     "task": false
    }
   },
   "source": [
    "**(a)** A pedestrian walks in front of the car. On the camera sensor the image of the person has a height of $12\\,\\text{mm}$. Assume that the person is of average height of $1.70\\,\\text{m}$. How far is the car away from the person?"
   ]
  },
  {
   "cell_type": "markdown",
   "metadata": {
    "deletable": false,
    "nbgrader": {
     "cell_type": "markdown",
     "checksum": "7fd004159131889ec2d9f104ec7a2134",
     "grade": true,
     "grade_id": "cell-03b0f48b1afa879b",
     "locked": false,
     "points": 0,
     "schema_version": 3,
     "solution": true,
     "task": false
    }
   },
   "source": [
    "YOUR ANSWER HERE"
   ]
  },
  {
   "cell_type": "markdown",
   "metadata": {
    "deletable": false,
    "editable": false,
    "nbgrader": {
     "cell_type": "markdown",
     "checksum": "dbedc505f9a8ec67710bc5b32be7e102",
     "grade": false,
     "grade_id": "cell-a4271649eb839f90",
     "locked": true,
     "schema_version": 3,
     "solution": false,
     "task": false
    }
   },
   "source": [
    "**(b)** A rectangular traffic sign with a width of $0.75\\,\\text{m}$ and a height of $0.50\\,\\text{m}$ is $2\\,\\text{m}$ away from the front of the same car with the same camera. This camera is a One Chip Camera with a Bayer Filter. Each colour pixel has a size of $10\\,\\text{μm}$ How many green pixels are inside the image of the traffic sign?"
   ]
  },
  {
   "cell_type": "markdown",
   "metadata": {
    "deletable": false,
    "nbgrader": {
     "cell_type": "markdown",
     "checksum": "c82a8c93b2cbec765c1e6ba8d3ba319d",
     "grade": true,
     "grade_id": "cell-4c5fa7d6d0b8dabe",
     "locked": false,
     "points": 0,
     "schema_version": 3,
     "solution": true,
     "task": false
    }
   },
   "source": [
    "YOUR ANSWER HERE"
   ]
  },
  {
   "cell_type": "markdown",
   "metadata": {
    "deletable": false,
    "editable": false,
    "nbgrader": {
     "cell_type": "markdown",
     "checksum": "4091ed126e5c91e7cf78eb9b934b3322",
     "grade": false,
     "grade_id": "cell-525292a528bb2f53",
     "locked": true,
     "schema_version": 3,
     "solution": false,
     "task": false
    }
   },
   "source": [
    "## Assignment 2: Noise\n",
    "\n",
    "In this assignment we will use `numpy.random` functions to add artificial noise to one of our images. Normally, we are interested in removing noise from images. However, if we want to make an algorithm robust against noise, we might want to create artificial images with controlled noise."
   ]
  },
  {
   "cell_type": "markdown",
   "metadata": {
    "deletable": false,
    "editable": false,
    "nbgrader": {
     "cell_type": "markdown",
     "checksum": "b96d528112f6adf07387f558e3163831",
     "grade": false,
     "grade_id": "cell-276edd2e7adad70b",
     "locked": true,
     "schema_version": 3,
     "solution": false,
     "task": false
    }
   },
   "source": [
    "**(a)** Add Gaussian noise to an image with the help of ``numpy.random.normal``. Try different standard deviations of the distribution. A good starting value would be $20$."
   ]
  },
  {
   "cell_type": "code",
   "execution_count": null,
   "metadata": {
    "deletable": false,
    "nbgrader": {
     "cell_type": "code",
     "checksum": "e6cf946e584466df40f2710ce71479ab",
     "grade": true,
     "grade_id": "cell-3c2e25df2b9643c7",
     "locked": false,
     "points": 0,
     "schema_version": 3,
     "solution": true,
     "task": false
    }
   },
   "outputs": [],
   "source": [
    "%matplotlib inline\n",
    "import matplotlib.pyplot as plt\n",
    "import imageio\n",
    "import numpy as np\n",
    "\n",
    "sigma = 20\n",
    "im = imageio.imread(\"imageio:camera.png\")\n",
    "\n",
    "im_noisy = im.copy()\n",
    "\n",
    "# YOUR CODE HERE\n",
    "\n",
    "plt.figure()\n",
    "plt.gray()\n",
    "plt.imshow(im)\n",
    "plt.figure()\n",
    "plt.imshow(im_noisy)\n",
    "plt.figure()\n",
    "plt.imshow(im[100:200,200:300])\n",
    "plt.figure()\n",
    "plt.imshow(im_noisy[100:200,200:300])\n",
    "plt.show()"
   ]
  },
  {
   "cell_type": "markdown",
   "metadata": {
    "deletable": false,
    "editable": false,
    "nbgrader": {
     "cell_type": "markdown",
     "checksum": "4ab28911fe903a99fb091cd809068c45",
     "grade": false,
     "grade_id": "cell-78af062585379798",
     "locked": true,
     "schema_version": 3,
     "solution": false
    }
   },
   "source": [
    "**(b)** Add Salt-and-pepper noise to one of our images. Create one image with $5\\%$ noise and one with $50\\%$. Experiment with other values. Trick question: When is the noise disruptive?"
   ]
  },
  {
   "cell_type": "code",
   "execution_count": null,
   "metadata": {
    "deletable": false,
    "nbgrader": {
     "cell_type": "code",
     "checksum": "696dfc452d8894b30f5afcfcb5a93263",
     "grade": true,
     "grade_id": "cell-2a29c02d6c0d059a",
     "locked": false,
     "points": 0,
     "schema_version": 3,
     "solution": true,
     "task": false
    }
   },
   "outputs": [],
   "source": [
    "%matplotlib inline\n",
    "import matplotlib.pyplot as plt\n",
    "import imageio\n",
    "import numpy as np\n",
    "\n",
    "noise_ratio = .05\n",
    "im = imageio.imread(\"imageio:camera.png\")\n",
    "\n",
    "im_noisy = im.copy()\n",
    "\n",
    "# YOUR CODE HERE\n",
    "\n",
    "plt.figure()\n",
    "plt.gray()\n",
    "plt.imshow(im)\n",
    "plt.figure()\n",
    "plt.imshow(im_noisy)\n",
    "plt.figure()\n",
    "plt.imshow(im[100:200,200:300])\n",
    "plt.figure()\n",
    "plt.imshow(im_noisy[100:200,200:300])\n",
    "plt.show()"
   ]
  },
  {
   "cell_type": "markdown",
   "metadata": {
    "deletable": false,
    "nbgrader": {
     "cell_type": "markdown",
     "checksum": "28cf0fff985318ad4069ba49c856f429",
     "grade": true,
     "grade_id": "cell-50232e4f7c3be90c",
     "locked": false,
     "points": 0,
     "schema_version": 3,
     "solution": true
    }
   },
   "source": [
    "YOUR ANSWER HERE"
   ]
  },
  {
   "cell_type": "markdown",
   "metadata": {
    "deletable": false,
    "editable": false,
    "nbgrader": {
     "cell_type": "markdown",
     "checksum": "5c98875db26bb7406a488a460964c27e",
     "grade": false,
     "grade_id": "cell-eb96071f6d05c7df",
     "locked": true,
     "schema_version": 3,
     "solution": false
    }
   },
   "source": [
    "**(c)** How could we remove noise from an image. Do you have an idea for Gaussian Noise? Do you have an idea for Salt-and-pepper noise? This is a brainstorming questions! We do not except working solutions but ideas on how you would approach the problem!"
   ]
  },
  {
   "cell_type": "markdown",
   "metadata": {
    "deletable": false,
    "nbgrader": {
     "cell_type": "markdown",
     "checksum": "117d538c0a1f01b1213b8a54aac17a6b",
     "grade": true,
     "grade_id": "cell-dc0638e930538dcd",
     "locked": false,
     "points": 0,
     "schema_version": 3,
     "solution": true
    }
   },
   "source": [
    "YOUR ANSWER HERE"
   ]
  }
 ],
 "metadata": {
  "kernelspec": {
   "display_name": "Python 3",
   "language": "python",
   "name": "python3"
  },
  "language_info": {
   "codemirror_mode": {
    "name": "ipython",
    "version": 3
   },
   "file_extension": ".py",
   "mimetype": "text/x-python",
   "name": "python",
   "nbconvert_exporter": "python",
   "pygments_lexer": "ipython3",
   "version": "3.8.6"
  }
 },
 "nbformat": 4,
 "nbformat_minor": 4
}
